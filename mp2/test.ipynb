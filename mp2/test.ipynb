{
 "cells": [
  {
   "cell_type": "code",
   "execution_count": 9,
   "metadata": {},
   "outputs": [
    {
     "data": {
      "text/plain": [
       "True"
      ]
     },
     "execution_count": 9,
     "metadata": {},
     "output_type": "execute_result"
    }
   ],
   "source": [
    "import cv2\n",
    "import numpy as np\n",
    "from core import TotalVariationDenoising\n",
    "import matplotlib.pyplot as plt\n",
    "\n",
    "image = cv2.imread('../assets/noise_image2.png')\n",
    "output = np.zeros_like(image)\n",
    "# image = cv2.cvtColor(image, cv2.COLOR_BGR2YCR_CB)\n",
    "for i in range(3):\n",
    "    subject = TotalVariationDenoising(image[:, :, i], lam=0.1)\n",
    "    processed = subject.generate()\n",
    "    output[:, :, i] = processed\n",
    "# output = cv2.cvtColor(output, cv2.COLOR_YCR_CB2BGR)\n",
    "cv2.imwrite('denoised.png', output)"
   ]
  }
 ],
 "metadata": {
  "kernelspec": {
   "display_name": "visiongraphics",
   "language": "python",
   "name": "python3"
  },
  "language_info": {
   "codemirror_mode": {
    "name": "ipython",
    "version": 3
   },
   "file_extension": ".py",
   "mimetype": "text/x-python",
   "name": "python",
   "nbconvert_exporter": "python",
   "pygments_lexer": "ipython3",
   "version": "3.11.7"
  }
 },
 "nbformat": 4,
 "nbformat_minor": 2
}
