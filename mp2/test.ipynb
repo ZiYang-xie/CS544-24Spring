{
 "cells": [
  {
   "cell_type": "code",
   "execution_count": 1,
   "metadata": {},
   "outputs": [],
   "source": [
    "import scipy as sp\n",
    "import numpy as np\n",
    "import matplotlib.pyplot as plt"
   ]
  },
  {
   "cell_type": "code",
   "execution_count": 2,
   "metadata": {},
   "outputs": [
    {
     "name": "stdout",
     "output_type": "stream",
     "text": [
      "[[ 1. -1.  0.  0.  0.  0.  0.  0.  0.]\n",
      " [ 0.  1. -1.  0.  0.  0.  0.  0.  0.]\n",
      " [ 0.  0.  1. -1.  0.  0.  0.  0.  0.]\n",
      " [ 0.  0.  0.  1. -1.  0.  0.  0.  0.]\n",
      " [ 0.  0.  0.  0.  1. -1.  0.  0.  0.]\n",
      " [ 0.  0.  0.  0.  0.  1. -1.  0.  0.]\n",
      " [ 0.  0.  0.  0.  0.  0.  1. -1.  0.]\n",
      " [ 0.  0.  0.  0.  0.  0.  0.  1. -1.]\n",
      " [ 0.  0.  0.  0.  0.  0.  0.  0.  1.]\n",
      " [ 1.  0.  0. -1.  0.  0.  0.  0.  0.]\n",
      " [ 0.  1.  0.  0. -1.  0.  0.  0.  0.]\n",
      " [ 0.  0.  1.  0.  0. -1.  0.  0.  0.]\n",
      " [ 0.  0.  0.  1.  0.  0. -1.  0.  0.]\n",
      " [ 0.  0.  0.  0.  1.  0.  0. -1.  0.]\n",
      " [ 0.  0.  0.  0.  0.  1.  0.  0. -1.]\n",
      " [-1.  0.  0.  0.  0.  0.  1.  0.  0.]\n",
      " [ 0. -1.  0.  0.  0.  0.  0.  1.  0.]\n",
      " [ 0.  0.  0.  0.  0.  0.  0.  0.  1.]]\n",
      "[[-1. -1. -1.]\n",
      " [-1. -1. -1.]\n",
      " [-1. -1.  9.]]\n",
      "[[-3. -3. -3.]\n",
      " [-3. -3. -3.]\n",
      " [ 6.  6.  9.]]\n"
     ]
    }
   ],
   "source": [
    "input = np.array([[1,2,3],[4,5,6],[7,8,9]])\n",
    "n = 3\n",
    "Dx = np.eye(n*n)\n",
    "# upper-right off diagonal terms are -1\n",
    "for i in range(n*n-1):\n",
    "    Dx[i, i+1] = -1\n",
    "Dy = np.eye(n*n)\n",
    "for i in range(n*n-1):\n",
    "    j = (i + n) % (n*n)\n",
    "    Dy[i, j] = -1\n",
    "D = np.vstack((Dx, Dy))\n",
    "print(D)\n",
    "D_input = D @ input.flatten()\n",
    "print(D_input[:9].reshape(3,3))\n",
    "print(D_input[9:].reshape(3,3))    \n",
    "        \n",
    "\n"
   ]
  }
 ],
 "metadata": {
  "kernelspec": {
   "display_name": "visiongraphics",
   "language": "python",
   "name": "python3"
  },
  "language_info": {
   "codemirror_mode": {
    "name": "ipython",
    "version": 3
   },
   "file_extension": ".py",
   "mimetype": "text/x-python",
   "name": "python",
   "nbconvert_exporter": "python",
   "pygments_lexer": "ipython3",
   "version": "3.11.7"
  }
 },
 "nbformat": 4,
 "nbformat_minor": 2
}
