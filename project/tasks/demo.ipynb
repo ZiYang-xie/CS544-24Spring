{
 "cells": [
  {
   "cell_type": "code",
   "execution_count": 3,
   "metadata": {},
   "outputs": [
    {
     "name": "stdout",
     "output_type": "stream",
     "text": [
      "P's foo\n",
      "P's foo\n"
     ]
    }
   ],
   "source": [
    "class P:\n",
    "    def foo(self):\n",
    "        print(\"P's foo\")\n",
    "class C(P):\n",
    "    def foo(self, x):\n",
    "        print(\"C's foo\", x)\n",
    "p = P()\n",
    "p.foo()\n",
    "c = C()\n",
    "P.foo(c)"
   ]
  }
 ],
 "metadata": {
  "kernelspec": {
   "display_name": "visiongraphics",
   "language": "python",
   "name": "python3"
  },
  "language_info": {
   "codemirror_mode": {
    "name": "ipython",
    "version": 3
   },
   "file_extension": ".py",
   "mimetype": "text/x-python",
   "name": "python",
   "nbconvert_exporter": "python",
   "pygments_lexer": "ipython3",
   "version": "3.10.13"
  }
 },
 "nbformat": 4,
 "nbformat_minor": 2
}
